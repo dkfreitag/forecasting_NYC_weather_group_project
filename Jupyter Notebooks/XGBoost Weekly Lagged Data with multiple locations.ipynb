{
 "cells": [
  {
   "cell_type": "code",
   "execution_count": 1,
   "metadata": {},
   "outputs": [],
   "source": [
    "import pandas as pd\n",
    "import os\n",
    "import numpy as np\n",
    "import xgboost as xgb\n",
    "from sklearn.model_selection import train_test_split, GridSearchCV, RandomizedSearchCV\n",
    "from sklearn import metrics"
   ]
  },
  {
   "cell_type": "code",
   "execution_count": 2,
   "metadata": {},
   "outputs": [],
   "source": [
    "pd.set_option('display.max_columns', None)"
   ]
  },
  {
   "cell_type": "code",
   "execution_count": 3,
   "metadata": {},
   "outputs": [],
   "source": [
    "pd.set_option('display.float_format', lambda x: '%.5f' % x)"
   ]
  },
  {
   "cell_type": "code",
   "execution_count": 4,
   "metadata": {},
   "outputs": [],
   "source": [
    "os.chdir('/Users/alexanderwendelborn/Documents/')"
   ]
  },
  {
   "cell_type": "code",
   "execution_count": 5,
   "metadata": {},
   "outputs": [],
   "source": [
    "#buffalo = pd.read_csv('buffalo_weather_data.csv')"
   ]
  },
  {
   "cell_type": "code",
   "execution_count": 6,
   "metadata": {},
   "outputs": [],
   "source": [
    "#houston = pd.read_csv('houston_weather_data.csv')"
   ]
  },
  {
   "cell_type": "code",
   "execution_count": 7,
   "metadata": {},
   "outputs": [],
   "source": [
    "#newyork = pd.read_csv('laguardia_weather_data.csv')"
   ]
  },
  {
   "cell_type": "code",
   "execution_count": 8,
   "metadata": {},
   "outputs": [],
   "source": [
    "#miami = pd.read_csv('miami_weather_data.csv')"
   ]
  },
  {
   "cell_type": "code",
   "execution_count": 9,
   "metadata": {},
   "outputs": [],
   "source": [
    "#minny = pd.read_csv('minneapolis_weather_data.csv')"
   ]
  },
  {
   "cell_type": "code",
   "execution_count": 10,
   "metadata": {},
   "outputs": [],
   "source": [
    "#buffalo.name='buffalo'"
   ]
  },
  {
   "cell_type": "code",
   "execution_count": 11,
   "metadata": {},
   "outputs": [],
   "source": [
    "#houston.name='houston'"
   ]
  },
  {
   "cell_type": "code",
   "execution_count": 12,
   "metadata": {},
   "outputs": [],
   "source": [
    "#newyork.name='newyork'"
   ]
  },
  {
   "cell_type": "code",
   "execution_count": 13,
   "metadata": {},
   "outputs": [],
   "source": [
    "#miami.name='miami'"
   ]
  },
  {
   "cell_type": "code",
   "execution_count": 14,
   "metadata": {},
   "outputs": [],
   "source": [
    "#minny.name='minneapolis'"
   ]
  },
  {
   "cell_type": "code",
   "execution_count": 15,
   "metadata": {},
   "outputs": [],
   "source": [
    "#df = [buffalo,houston,newyork,miami,minny]"
   ]
  },
  {
   "cell_type": "code",
   "execution_count": 16,
   "metadata": {},
   "outputs": [],
   "source": [
    "#data = pd.DataFrame()"
   ]
  },
  {
   "cell_type": "code",
   "execution_count": 17,
   "metadata": {},
   "outputs": [],
   "source": [
    "#for file in df:\n",
    "#    file['AvTemp_'+file.name]=(file.TMAX/10+file.TMIN/10)/2\n",
    "#    file.rename(columns={'PRCP':'PRCP_'+file.name},inplace=True)\n",
    "#    file.drop(columns=['TMAX','TMIN'],inplace=True)\n",
    "#    if file.name=='buffalo':\n",
    "#        data=file\n",
    "#    else:\n",
    "#        data=pd.merge(data,file,on='date',how='outer')"
   ]
  },
  {
   "cell_type": "code",
   "execution_count": 73,
   "metadata": {},
   "outputs": [],
   "source": [
    "data=pd.read_csv('Alex_Weather_Data.csv')\n",
    "#read in data"
   ]
  },
  {
   "cell_type": "code",
   "execution_count": 74,
   "metadata": {},
   "outputs": [],
   "source": [
    "data.date=pd.to_datetime(data.date)"
   ]
  },
  {
   "cell_type": "code",
   "execution_count": 76,
   "metadata": {},
   "outputs": [],
   "source": [
    "data.drop(columns='Unnamed: 0',inplace=True)"
   ]
  },
  {
   "cell_type": "code",
   "execution_count": null,
   "metadata": {},
   "outputs": [],
   "source": []
  },
  {
   "cell_type": "code",
   "execution_count": 79,
   "metadata": {},
   "outputs": [],
   "source": [
    "data.AvTemp_buffalo=data.AvTemp_buffalo.rolling(7).mean()\n",
    "data.AvTemp_houston=data.AvTemp_houston.rolling(7).mean()\n",
    "data.AvTemp_newyork=data.AvTemp_newyork.rolling(7).mean()\n",
    "data.AvTemp_miami=data.AvTemp_miami.rolling(7).mean()\n",
    "data.AvTemp_minneapolis=data.AvTemp_minneapolis.rolling(7).mean()\n",
    "#get weekly temperatures"
   ]
  },
  {
   "cell_type": "code",
   "execution_count": 80,
   "metadata": {},
   "outputs": [],
   "source": [
    "data.loc[data.PRCP_buffalo>0, 'PRCP_buffalo']=1\n",
    "#turn precipication into a dummy variable"
   ]
  },
  {
   "cell_type": "code",
   "execution_count": 81,
   "metadata": {},
   "outputs": [],
   "source": [
    "data.loc[data.PRCP_houston>0, 'PRCP_houston']=1\n",
    "data.loc[data.PRCP_newyork>0, 'PRCP_newyork']=1\n",
    "data.loc[data.PRCP_miami>0, 'PRCP_miami']=1\n",
    "data.loc[data.PRCP_minneapolis>0, 'PRCP_minneapolis']=1"
   ]
  },
  {
   "cell_type": "code",
   "execution_count": 82,
   "metadata": {},
   "outputs": [],
   "source": [
    "data.PRCP_buffalo=data.PRCP_buffalo.rolling(7).sum()\n",
    "data.PRCP_houston=data.PRCP_houston.rolling(7).sum()\n",
    "data.PRCP_newyork=data.PRCP_newyork.rolling(7).sum()\n",
    "data.PRCP_miami=data.PRCP_miami.rolling(7).sum()\n",
    "data.PRCP_minneapolis=data.PRCP_minneapolis.rolling(7).sum()\n",
    "#rolling sums"
   ]
  },
  {
   "cell_type": "code",
   "execution_count": 83,
   "metadata": {},
   "outputs": [],
   "source": [
    "data=pd.DataFrame(data.iloc[6:,:])"
   ]
  },
  {
   "cell_type": "code",
   "execution_count": 84,
   "metadata": {},
   "outputs": [],
   "source": [
    "data['Month']=data.date.dt.month\n",
    "data['Day']=data.date.dt.day"
   ]
  },
  {
   "cell_type": "code",
   "execution_count": 85,
   "metadata": {},
   "outputs": [],
   "source": [
    "data.drop(list(data[(data.Month==2)&(data.Day==29)].index),inplace=True)"
   ]
  },
  {
   "cell_type": "code",
   "execution_count": 86,
   "metadata": {},
   "outputs": [],
   "source": [
    "data.drop(list(data[(data.Month==8)&(data.Day==30)].index),inplace=True)\n",
    "#drop these two days for ease of finding yearly averages"
   ]
  },
  {
   "cell_type": "code",
   "execution_count": 87,
   "metadata": {},
   "outputs": [],
   "source": [
    "data.reset_index(drop=True,inplace=True)"
   ]
  },
  {
   "cell_type": "code",
   "execution_count": 88,
   "metadata": {},
   "outputs": [],
   "source": [
    "data=data.iloc[list(range(0,5215,7))]"
   ]
  },
  {
   "cell_type": "code",
   "execution_count": null,
   "metadata": {},
   "outputs": [],
   "source": []
  },
  {
   "cell_type": "code",
   "execution_count": null,
   "metadata": {},
   "outputs": [],
   "source": []
  },
  {
   "cell_type": "code",
   "execution_count": null,
   "metadata": {},
   "outputs": [],
   "source": []
  },
  {
   "cell_type": "code",
   "execution_count": null,
   "metadata": {},
   "outputs": [],
   "source": []
  },
  {
   "cell_type": "code",
   "execution_count": 89,
   "metadata": {},
   "outputs": [],
   "source": [
    "data, val = train_test_split(data,train_size=.8,random_state=6548)"
   ]
  },
  {
   "cell_type": "code",
   "execution_count": null,
   "metadata": {},
   "outputs": [],
   "source": []
  },
  {
   "cell_type": "code",
   "execution_count": null,
   "metadata": {},
   "outputs": [],
   "source": []
  },
  {
   "cell_type": "code",
   "execution_count": 90,
   "metadata": {},
   "outputs": [],
   "source": [
    "#standardize data"
   ]
  },
  {
   "cell_type": "code",
   "execution_count": 91,
   "metadata": {},
   "outputs": [],
   "source": [
    "annualaverages = data[['AvTemp_buffalo','AvTemp_houston','AvTemp_newyork','AvTemp_miami','AvTemp_minneapolis','PRCP_buffalo',\n",
    "                      'PRCP_houston','PRCP_newyork','PRCP_miami','PRCP_minneapolis']].groupby([data.Day,data.Month]).mean().reset_index()"
   ]
  },
  {
   "cell_type": "code",
   "execution_count": 92,
   "metadata": {},
   "outputs": [],
   "source": [
    "annualstd = data[['AvTemp_buffalo','AvTemp_houston','AvTemp_newyork','AvTemp_miami','AvTemp_minneapolis','PRCP_buffalo',\n",
    "                      'PRCP_houston','PRCP_newyork','PRCP_miami','PRCP_minneapolis']].groupby([data.Day,data.Month]).std().reset_index()"
   ]
  },
  {
   "cell_type": "code",
   "execution_count": 93,
   "metadata": {},
   "outputs": [],
   "source": [
    "annualaverages.rename(columns={'AvTemp_buffalo':'AvEveryYear_buffalo','AvTemp_houston':'AvEveryYear_houston',\n",
    "                               'AvTemp_newyork':'AvEveryYear_newyork','AvTemp_miami':'AvEveryYear_miami',\n",
    "                              'AvTemp_minneapolis':'AvEveryYear_minneapolis','PRCP_buffalo':'AvPRCP_buffalo',\n",
    "                                'PRCP_houston':'AvPRCP_houston','PRCP_newyork':'AvPRCP_newyork',\n",
    "                               'PRCP_miami':'AvPRCP_miami','PRCP_minneapolis':'AvPRCP_minneapolis'},inplace=True)"
   ]
  },
  {
   "cell_type": "code",
   "execution_count": 94,
   "metadata": {},
   "outputs": [],
   "source": [
    "annualstd.rename(columns={'AvTemp_buffalo':'StdEveryYear_buffalo','AvTemp_houston':'StdEveryYear_houston',\n",
    "                               'AvTemp_newyork':'StdEveryYear_newyork','AvTemp_miami':'StdEveryYear_miami',\n",
    "                              'AvTemp_minneapolis':'StdEveryYear_minneapolis','PRCP_buffalo':'StdPRCP_buffalo',\n",
    "                              'PRCP_houston':'StdPRCP_houston','PRCP_newyork':'StdPRCP_newyork',\n",
    "                              'PRCP_miami':'StdPRCP_miami','PRCP_minneapolis':'StdPRCP_minneapolis'},inplace=True)"
   ]
  },
  {
   "cell_type": "code",
   "execution_count": 95,
   "metadata": {},
   "outputs": [],
   "source": [
    "data = pd.merge(data,annualaverages,how='left',on=['Month','Day'])\n",
    "val = pd.merge(val,annualaverages,how='left',on=['Month','Day'])"
   ]
  },
  {
   "cell_type": "code",
   "execution_count": 96,
   "metadata": {},
   "outputs": [],
   "source": [
    "data = pd.merge(data,annualstd,how='left',on=['Month','Day'])\n",
    "val = pd.merge(val,annualstd,how='left',on=['Month','Day'])"
   ]
  },
  {
   "cell_type": "code",
   "execution_count": 97,
   "metadata": {},
   "outputs": [],
   "source": [
    "savet=data\n",
    "#save for unstandardizing at the end"
   ]
  },
  {
   "cell_type": "code",
   "execution_count": 98,
   "metadata": {},
   "outputs": [],
   "source": [
    "savev=val"
   ]
  },
  {
   "cell_type": "code",
   "execution_count": 99,
   "metadata": {},
   "outputs": [
    {
     "data": {
      "text/plain": [
       "2.555071463528904"
      ]
     },
     "execution_count": 99,
     "metadata": {},
     "output_type": "execute_result"
    }
   ],
   "source": [
    "metrics.mean_squared_error(savet.AvTemp_newyork,savet.AvEveryYear_newyork,squared=False)\n",
    "#training MSE using average temp for that week every year from training set"
   ]
  },
  {
   "cell_type": "code",
   "execution_count": 100,
   "metadata": {},
   "outputs": [
    {
     "data": {
      "text/plain": [
       "2.6800741326270403"
      ]
     },
     "execution_count": 100,
     "metadata": {},
     "output_type": "execute_result"
    }
   ],
   "source": [
    "metrics.mean_squared_error(savev.AvTemp_newyork,savev.AvEveryYear_newyork,squared=False)\n",
    "#validation MSE using average temp for that week every year from training set"
   ]
  },
  {
   "cell_type": "code",
   "execution_count": null,
   "metadata": {},
   "outputs": [],
   "source": []
  },
  {
   "cell_type": "code",
   "execution_count": null,
   "metadata": {},
   "outputs": [],
   "source": []
  },
  {
   "cell_type": "code",
   "execution_count": null,
   "metadata": {},
   "outputs": [],
   "source": []
  },
  {
   "cell_type": "code",
   "execution_count": 101,
   "metadata": {},
   "outputs": [],
   "source": [
    "data['VarTemp_buffalo']=(data.AvTemp_buffalo-data.AvEveryYear_buffalo)/data.StdEveryYear_buffalo\n",
    "data['VarPRCP_buffalo']=(data.PRCP_buffalo-data.AvPRCP_buffalo)/data.StdPRCP_buffalo\n",
    "data['VarTemp_houston']=(data.AvTemp_houston-data.AvEveryYear_houston)/data.StdEveryYear_houston\n",
    "data['VarPRCP_houston']=(data.PRCP_houston-data.AvPRCP_houston)/data.StdPRCP_houston\n",
    "data['VarTemp_newyork']=(data.AvTemp_newyork-data.AvEveryYear_newyork)/data.StdEveryYear_newyork\n",
    "data['VarPRCP_newyork']=(data.PRCP_newyork-data.AvPRCP_newyork)/data.StdPRCP_newyork\n",
    "data['VarTemp_miami']=(data.AvTemp_miami-data.AvEveryYear_miami)/data.StdEveryYear_miami\n",
    "data['VarPRCP_miami']=(data.PRCP_miami-data.AvPRCP_miami)/data.StdPRCP_miami\n",
    "data['VarTemp_minneapolis']=(data.AvTemp_minneapolis-data.AvEveryYear_minneapolis)/data.StdEveryYear_minneapolis\n",
    "data['VarPRCP_minneapolis']=(data.PRCP_minneapolis-data.AvPRCP_minneapolis)/data.StdPRCP_minneapolis\n",
    "\n",
    "val['VarTemp_buffalo']=(val.AvTemp_buffalo-val.AvEveryYear_buffalo)/val.StdEveryYear_buffalo\n",
    "val['VarPRCP_buffalo']=(val.PRCP_buffalo-val.AvPRCP_buffalo)/val.StdPRCP_buffalo\n",
    "val['VarTemp_houston']=(val.AvTemp_houston-val.AvEveryYear_houston)/val.StdEveryYear_houston\n",
    "val['VarPRCP_houston']=(val.PRCP_houston-val.AvPRCP_houston)/val.StdPRCP_houston\n",
    "val['VarTemp_newyork']=(val.AvTemp_newyork-val.AvEveryYear_newyork)/val.StdEveryYear_newyork\n",
    "val['VarPRCP_newyork']=(val.PRCP_newyork-val.AvPRCP_newyork)/val.StdPRCP_newyork\n",
    "val['VarTemp_miami']=(val.AvTemp_miami-val.AvEveryYear_miami)/val.StdEveryYear_miami\n",
    "val['VarPRCP_miami']=(val.PRCP_miami-val.AvPRCP_miami)/val.StdPRCP_miami\n",
    "val['VarTemp_minneapolis']=(val.AvTemp_minneapolis-val.AvEveryYear_minneapolis)/val.StdEveryYear_minneapolis\n",
    "val['VarPRCP_minneapolis']=(val.PRCP_minneapolis-val.AvPRCP_minneapolis)/val.StdPRCP_minneapolis\n",
    "#standardize"
   ]
  },
  {
   "cell_type": "code",
   "execution_count": 102,
   "metadata": {},
   "outputs": [],
   "source": [
    "data=data[['date','VarTemp_buffalo','VarPRCP_buffalo','VarTemp_houston','VarPRCP_houston','VarTemp_newyork','VarPRCP_newyork','VarTemp_miami','VarPRCP_miami','VarTemp_minneapolis','VarPRCP_minneapolis']]\n",
    "val=val[['date','VarTemp_buffalo','VarPRCP_buffalo','VarTemp_houston','VarPRCP_houston','VarTemp_newyork','VarPRCP_newyork','VarTemp_miami','VarPRCP_miami','VarTemp_minneapolis','VarPRCP_minneapolis']]"
   ]
  },
  {
   "cell_type": "code",
   "execution_count": 103,
   "metadata": {},
   "outputs": [
    {
     "name": "stderr",
     "output_type": "stream",
     "text": [
      "/Users/alexanderwendelborn/opt/anaconda3/lib/python3.8/site-packages/pandas/core/frame.py:4317: SettingWithCopyWarning: \n",
      "A value is trying to be set on a copy of a slice from a DataFrame\n",
      "\n",
      "See the caveats in the documentation: https://pandas.pydata.org/pandas-docs/stable/user_guide/indexing.html#returning-a-view-versus-a-copy\n",
      "  return super().fillna(\n"
     ]
    }
   ],
   "source": [
    "data.fillna(0,inplace=True)\n",
    "val.fillna(0,inplace=True)"
   ]
  },
  {
   "cell_type": "code",
   "execution_count": 104,
   "metadata": {},
   "outputs": [
    {
     "name": "stderr",
     "output_type": "stream",
     "text": [
      "<ipython-input-104-cea01d176919>:1: SettingWithCopyWarning: \n",
      "A value is trying to be set on a copy of a slice from a DataFrame.\n",
      "Try using .loc[row_indexer,col_indexer] = value instead\n",
      "\n",
      "See the caveats in the documentation: https://pandas.pydata.org/pandas-docs/stable/user_guide/indexing.html#returning-a-view-versus-a-copy\n",
      "  data['z']='train'\n",
      "<ipython-input-104-cea01d176919>:2: SettingWithCopyWarning: \n",
      "A value is trying to be set on a copy of a slice from a DataFrame.\n",
      "Try using .loc[row_indexer,col_indexer] = value instead\n",
      "\n",
      "See the caveats in the documentation: https://pandas.pydata.org/pandas-docs/stable/user_guide/indexing.html#returning-a-view-versus-a-copy\n",
      "  val['z']='val'\n"
     ]
    }
   ],
   "source": [
    "data['z']='train'\n",
    "val['z']='val'\n",
    "# for filtering after adding lags"
   ]
  },
  {
   "cell_type": "code",
   "execution_count": 105,
   "metadata": {},
   "outputs": [],
   "source": [
    "data=data.append(val)"
   ]
  },
  {
   "cell_type": "code",
   "execution_count": 106,
   "metadata": {},
   "outputs": [],
   "source": [
    "data.set_index('date',inplace=True)"
   ]
  },
  {
   "cell_type": "code",
   "execution_count": 107,
   "metadata": {},
   "outputs": [],
   "source": [
    "data.sort_values('date',ascending=True,inplace=True)"
   ]
  },
  {
   "cell_type": "code",
   "execution_count": null,
   "metadata": {},
   "outputs": [],
   "source": []
  },
  {
   "cell_type": "code",
   "execution_count": null,
   "metadata": {},
   "outputs": [],
   "source": []
  },
  {
   "cell_type": "code",
   "execution_count": 108,
   "metadata": {},
   "outputs": [],
   "source": [
    "loop = list(range(1,53,1))"
   ]
  },
  {
   "cell_type": "code",
   "execution_count": 109,
   "metadata": {},
   "outputs": [],
   "source": [
    "output=data"
   ]
  },
  {
   "cell_type": "code",
   "execution_count": 110,
   "metadata": {},
   "outputs": [],
   "source": [
    "for lag in loop:\n",
    "    lagged = data.shift(periods=lag)\n",
    "    lagged.rename(columns={'VarTemp_buffalo':'VarTemp_buffalo'+'_lag'+str(lag).zfill(2),'VarPRCP_buffalo':'VarPRCP_buffalo'+'_lag'+str(lag).zfill(2),'VarTemp_houston':'VarTemp_houston'+'_lag'+str(lag).zfill(2),'VarPRCP_houston':'VarPRCP_houston'+'_lag'+str(lag).zfill(2),'VarTemp_newyork':'VarTemp_newyork'+'_lag'+str(lag).zfill(2),'VarPRCP_newyork':'VarPRCP_newyork'+'_lag'+str(lag).zfill(2),'VarTemp_miami':'VarTemp_miami'+'_lag'+str(lag).zfill(2),'VarPRCP_miami':'VarPRCP_miami'+'_lag'+str(lag).zfill(2),'VarTemp_minneapolis':'VarTemp_minneapolis'+'_lag'+str(lag).zfill(2),'VarPRCP_minneapolis':'VarPRCP_minneapolis'+'_lag'+str(lag).zfill(2)},inplace=True)\n",
    "    lagged.drop(columns=['z'],inplace=True)\n",
    "    output = pd.merge(output,lagged, left_index=True, right_index=True)\n",
    "    #create lagged columns"
   ]
  },
  {
   "cell_type": "code",
   "execution_count": 111,
   "metadata": {},
   "outputs": [],
   "source": [
    "needsfeatures=output.iloc[52:,:]"
   ]
  },
  {
   "cell_type": "code",
   "execution_count": null,
   "metadata": {},
   "outputs": [],
   "source": []
  },
  {
   "cell_type": "code",
   "execution_count": null,
   "metadata": {},
   "outputs": [],
   "source": []
  },
  {
   "cell_type": "code",
   "execution_count": 112,
   "metadata": {
    "scrolled": false
   },
   "outputs": [
    {
     "name": "stderr",
     "output_type": "stream",
     "text": [
      "<ipython-input-112-ce69d739519d>:1: SettingWithCopyWarning: \n",
      "A value is trying to be set on a copy of a slice from a DataFrame\n",
      "\n",
      "See the caveats in the documentation: https://pandas.pydata.org/pandas-docs/stable/user_guide/indexing.html#returning-a-view-versus-a-copy\n",
      "  needsfeatures.sort_index(axis=1,inplace=True)\n"
     ]
    }
   ],
   "source": [
    "needsfeatures.sort_index(axis=1,inplace=True)"
   ]
  },
  {
   "cell_type": "code",
   "execution_count": 113,
   "metadata": {},
   "outputs": [],
   "source": [
    "ys=needsfeatures.VarTemp_newyork"
   ]
  },
  {
   "cell_type": "code",
   "execution_count": null,
   "metadata": {},
   "outputs": [],
   "source": []
  },
  {
   "cell_type": "code",
   "execution_count": 114,
   "metadata": {},
   "outputs": [
    {
     "name": "stderr",
     "output_type": "stream",
     "text": [
      "/Users/alexanderwendelborn/opt/anaconda3/lib/python3.8/site-packages/pandas/core/frame.py:4163: SettingWithCopyWarning: \n",
      "A value is trying to be set on a copy of a slice from a DataFrame\n",
      "\n",
      "See the caveats in the documentation: https://pandas.pydata.org/pandas-docs/stable/user_guide/indexing.html#returning-a-view-versus-a-copy\n",
      "  return super().drop(\n"
     ]
    }
   ],
   "source": [
    "needsfeatures.drop(columns=['VarPRCP_newyork','VarTemp_newyork','VarTemp_buffalo','VarPRCP_buffalo','VarTemp_houston','VarPRCP_houston','VarTemp_miami','VarPRCP_miami','VarTemp_minneapolis','VarPRCP_minneapolis'],inplace=True)"
   ]
  },
  {
   "cell_type": "code",
   "execution_count": null,
   "metadata": {},
   "outputs": [],
   "source": []
  },
  {
   "cell_type": "code",
   "execution_count": 115,
   "metadata": {},
   "outputs": [],
   "source": [
    "# add averages for lags far in the past"
   ]
  },
  {
   "cell_type": "code",
   "execution_count": 116,
   "metadata": {},
   "outputs": [
    {
     "name": "stderr",
     "output_type": "stream",
     "text": [
      "<ipython-input-116-b30e3e036287>:1: SettingWithCopyWarning: \n",
      "A value is trying to be set on a copy of a slice from a DataFrame.\n",
      "Try using .loc[row_indexer,col_indexer] = value instead\n",
      "\n",
      "See the caveats in the documentation: https://pandas.pydata.org/pandas-docs/stable/user_guide/indexing.html#returning-a-view-versus-a-copy\n",
      "  needsfeatures['buffaloPRCP_lag5:lag8']=needsfeatures.iloc[:,4:8].mean(axis=1)\n",
      "<ipython-input-116-b30e3e036287>:2: SettingWithCopyWarning: \n",
      "A value is trying to be set on a copy of a slice from a DataFrame.\n",
      "Try using .loc[row_indexer,col_indexer] = value instead\n",
      "\n",
      "See the caveats in the documentation: https://pandas.pydata.org/pandas-docs/stable/user_guide/indexing.html#returning-a-view-versus-a-copy\n",
      "  needsfeatures['houstonPRCP_lag5:lag8']=needsfeatures.iloc[:,56:60].mean(axis=1)\n",
      "<ipython-input-116-b30e3e036287>:3: SettingWithCopyWarning: \n",
      "A value is trying to be set on a copy of a slice from a DataFrame.\n",
      "Try using .loc[row_indexer,col_indexer] = value instead\n",
      "\n",
      "See the caveats in the documentation: https://pandas.pydata.org/pandas-docs/stable/user_guide/indexing.html#returning-a-view-versus-a-copy\n",
      "  needsfeatures['miamiPRCP_lag5:lag8']=needsfeatures.iloc[:,108:112].mean(axis=1)\n",
      "<ipython-input-116-b30e3e036287>:4: SettingWithCopyWarning: \n",
      "A value is trying to be set on a copy of a slice from a DataFrame.\n",
      "Try using .loc[row_indexer,col_indexer] = value instead\n",
      "\n",
      "See the caveats in the documentation: https://pandas.pydata.org/pandas-docs/stable/user_guide/indexing.html#returning-a-view-versus-a-copy\n",
      "  needsfeatures['minneapolisPRCP_lag5:lag8']=needsfeatures.iloc[:,160:164].mean(axis=1)\n",
      "<ipython-input-116-b30e3e036287>:5: SettingWithCopyWarning: \n",
      "A value is trying to be set on a copy of a slice from a DataFrame.\n",
      "Try using .loc[row_indexer,col_indexer] = value instead\n",
      "\n",
      "See the caveats in the documentation: https://pandas.pydata.org/pandas-docs/stable/user_guide/indexing.html#returning-a-view-versus-a-copy\n",
      "  needsfeatures['newyorkPRCP_lag5:lag8']=needsfeatures.iloc[:,212:216].mean(axis=1)\n",
      "<ipython-input-116-b30e3e036287>:6: SettingWithCopyWarning: \n",
      "A value is trying to be set on a copy of a slice from a DataFrame.\n",
      "Try using .loc[row_indexer,col_indexer] = value instead\n",
      "\n",
      "See the caveats in the documentation: https://pandas.pydata.org/pandas-docs/stable/user_guide/indexing.html#returning-a-view-versus-a-copy\n",
      "  needsfeatures['buffaloTemp_lag5:lag8']=needsfeatures.iloc[:,264:268].mean(axis=1)\n",
      "<ipython-input-116-b30e3e036287>:7: SettingWithCopyWarning: \n",
      "A value is trying to be set on a copy of a slice from a DataFrame.\n",
      "Try using .loc[row_indexer,col_indexer] = value instead\n",
      "\n",
      "See the caveats in the documentation: https://pandas.pydata.org/pandas-docs/stable/user_guide/indexing.html#returning-a-view-versus-a-copy\n",
      "  needsfeatures['houstonTemp_lag5:lag8']=needsfeatures.iloc[:,316:320].mean(axis=1)\n",
      "<ipython-input-116-b30e3e036287>:8: SettingWithCopyWarning: \n",
      "A value is trying to be set on a copy of a slice from a DataFrame.\n",
      "Try using .loc[row_indexer,col_indexer] = value instead\n",
      "\n",
      "See the caveats in the documentation: https://pandas.pydata.org/pandas-docs/stable/user_guide/indexing.html#returning-a-view-versus-a-copy\n",
      "  needsfeatures['miamiTemp_lag5:lag8']=needsfeatures.iloc[:,368:372].mean(axis=1)\n",
      "<ipython-input-116-b30e3e036287>:9: SettingWithCopyWarning: \n",
      "A value is trying to be set on a copy of a slice from a DataFrame.\n",
      "Try using .loc[row_indexer,col_indexer] = value instead\n",
      "\n",
      "See the caveats in the documentation: https://pandas.pydata.org/pandas-docs/stable/user_guide/indexing.html#returning-a-view-versus-a-copy\n",
      "  needsfeatures['minneapolisTemp_lag5:lag8']=needsfeatures.iloc[:,420:424].mean(axis=1)\n",
      "<ipython-input-116-b30e3e036287>:10: SettingWithCopyWarning: \n",
      "A value is trying to be set on a copy of a slice from a DataFrame.\n",
      "Try using .loc[row_indexer,col_indexer] = value instead\n",
      "\n",
      "See the caveats in the documentation: https://pandas.pydata.org/pandas-docs/stable/user_guide/indexing.html#returning-a-view-versus-a-copy\n",
      "  needsfeatures['newyorkTemp_lag5:lag8']=needsfeatures.iloc[:,472:476].mean(axis=1)\n"
     ]
    }
   ],
   "source": [
    "needsfeatures['buffaloPRCP_lag5:lag8']=needsfeatures.iloc[:,4:8].mean(axis=1)\n",
    "needsfeatures['houstonPRCP_lag5:lag8']=needsfeatures.iloc[:,56:60].mean(axis=1)\n",
    "needsfeatures['miamiPRCP_lag5:lag8']=needsfeatures.iloc[:,108:112].mean(axis=1)\n",
    "needsfeatures['minneapolisPRCP_lag5:lag8']=needsfeatures.iloc[:,160:164].mean(axis=1)\n",
    "needsfeatures['newyorkPRCP_lag5:lag8']=needsfeatures.iloc[:,212:216].mean(axis=1)\n",
    "needsfeatures['buffaloTemp_lag5:lag8']=needsfeatures.iloc[:,264:268].mean(axis=1)\n",
    "needsfeatures['houstonTemp_lag5:lag8']=needsfeatures.iloc[:,316:320].mean(axis=1)\n",
    "needsfeatures['miamiTemp_lag5:lag8']=needsfeatures.iloc[:,368:372].mean(axis=1)\n",
    "needsfeatures['minneapolisTemp_lag5:lag8']=needsfeatures.iloc[:,420:424].mean(axis=1)\n",
    "needsfeatures['newyorkTemp_lag5:lag8']=needsfeatures.iloc[:,472:476].mean(axis=1)"
   ]
  },
  {
   "cell_type": "code",
   "execution_count": 117,
   "metadata": {},
   "outputs": [
    {
     "name": "stderr",
     "output_type": "stream",
     "text": [
      "<ipython-input-117-d8ff58ba5332>:1: SettingWithCopyWarning: \n",
      "A value is trying to be set on a copy of a slice from a DataFrame.\n",
      "Try using .loc[row_indexer,col_indexer] = value instead\n",
      "\n",
      "See the caveats in the documentation: https://pandas.pydata.org/pandas-docs/stable/user_guide/indexing.html#returning-a-view-versus-a-copy\n",
      "  needsfeatures['buffaloPRCP_lag9:lag16']=needsfeatures.iloc[:,8:16].mean(axis=1)\n",
      "<ipython-input-117-d8ff58ba5332>:2: SettingWithCopyWarning: \n",
      "A value is trying to be set on a copy of a slice from a DataFrame.\n",
      "Try using .loc[row_indexer,col_indexer] = value instead\n",
      "\n",
      "See the caveats in the documentation: https://pandas.pydata.org/pandas-docs/stable/user_guide/indexing.html#returning-a-view-versus-a-copy\n",
      "  needsfeatures['houstonPRCP_lag9:lag16']=needsfeatures.iloc[:,60:68].mean(axis=1)\n",
      "<ipython-input-117-d8ff58ba5332>:3: SettingWithCopyWarning: \n",
      "A value is trying to be set on a copy of a slice from a DataFrame.\n",
      "Try using .loc[row_indexer,col_indexer] = value instead\n",
      "\n",
      "See the caveats in the documentation: https://pandas.pydata.org/pandas-docs/stable/user_guide/indexing.html#returning-a-view-versus-a-copy\n",
      "  needsfeatures['miamiPRCP_lag9:lag16']=needsfeatures.iloc[:,112:120].mean(axis=1)\n",
      "<ipython-input-117-d8ff58ba5332>:4: SettingWithCopyWarning: \n",
      "A value is trying to be set on a copy of a slice from a DataFrame.\n",
      "Try using .loc[row_indexer,col_indexer] = value instead\n",
      "\n",
      "See the caveats in the documentation: https://pandas.pydata.org/pandas-docs/stable/user_guide/indexing.html#returning-a-view-versus-a-copy\n",
      "  needsfeatures['minneapolisPRCP_lag9:lag16']=needsfeatures.iloc[:,164:172].mean(axis=1)\n",
      "<ipython-input-117-d8ff58ba5332>:5: SettingWithCopyWarning: \n",
      "A value is trying to be set on a copy of a slice from a DataFrame.\n",
      "Try using .loc[row_indexer,col_indexer] = value instead\n",
      "\n",
      "See the caveats in the documentation: https://pandas.pydata.org/pandas-docs/stable/user_guide/indexing.html#returning-a-view-versus-a-copy\n",
      "  needsfeatures['newyorkPRCP_lag9:lag16']=needsfeatures.iloc[:,216:224].mean(axis=1)\n",
      "<ipython-input-117-d8ff58ba5332>:6: SettingWithCopyWarning: \n",
      "A value is trying to be set on a copy of a slice from a DataFrame.\n",
      "Try using .loc[row_indexer,col_indexer] = value instead\n",
      "\n",
      "See the caveats in the documentation: https://pandas.pydata.org/pandas-docs/stable/user_guide/indexing.html#returning-a-view-versus-a-copy\n",
      "  needsfeatures['buffaloTemp_lag9:lag16']=needsfeatures.iloc[:,268:276].mean(axis=1)\n",
      "<ipython-input-117-d8ff58ba5332>:7: SettingWithCopyWarning: \n",
      "A value is trying to be set on a copy of a slice from a DataFrame.\n",
      "Try using .loc[row_indexer,col_indexer] = value instead\n",
      "\n",
      "See the caveats in the documentation: https://pandas.pydata.org/pandas-docs/stable/user_guide/indexing.html#returning-a-view-versus-a-copy\n",
      "  needsfeatures['houstonTemp_lag9:lag16']=needsfeatures.iloc[:,320:328].mean(axis=1)\n",
      "<ipython-input-117-d8ff58ba5332>:8: SettingWithCopyWarning: \n",
      "A value is trying to be set on a copy of a slice from a DataFrame.\n",
      "Try using .loc[row_indexer,col_indexer] = value instead\n",
      "\n",
      "See the caveats in the documentation: https://pandas.pydata.org/pandas-docs/stable/user_guide/indexing.html#returning-a-view-versus-a-copy\n",
      "  needsfeatures['miamiTemp_lag9:lag16']=needsfeatures.iloc[:,372:380].mean(axis=1)\n",
      "<ipython-input-117-d8ff58ba5332>:9: SettingWithCopyWarning: \n",
      "A value is trying to be set on a copy of a slice from a DataFrame.\n",
      "Try using .loc[row_indexer,col_indexer] = value instead\n",
      "\n",
      "See the caveats in the documentation: https://pandas.pydata.org/pandas-docs/stable/user_guide/indexing.html#returning-a-view-versus-a-copy\n",
      "  needsfeatures['minneapolisTemp_lag9:lag16']=needsfeatures.iloc[:,424:432].mean(axis=1)\n",
      "<ipython-input-117-d8ff58ba5332>:10: SettingWithCopyWarning: \n",
      "A value is trying to be set on a copy of a slice from a DataFrame.\n",
      "Try using .loc[row_indexer,col_indexer] = value instead\n",
      "\n",
      "See the caveats in the documentation: https://pandas.pydata.org/pandas-docs/stable/user_guide/indexing.html#returning-a-view-versus-a-copy\n",
      "  needsfeatures['newyorkTemp_lag9:lag16']=needsfeatures.iloc[:,476:484].mean(axis=1)\n"
     ]
    }
   ],
   "source": [
    "needsfeatures['buffaloPRCP_lag9:lag16']=needsfeatures.iloc[:,8:16].mean(axis=1)\n",
    "needsfeatures['houstonPRCP_lag9:lag16']=needsfeatures.iloc[:,60:68].mean(axis=1)\n",
    "needsfeatures['miamiPRCP_lag9:lag16']=needsfeatures.iloc[:,112:120].mean(axis=1)\n",
    "needsfeatures['minneapolisPRCP_lag9:lag16']=needsfeatures.iloc[:,164:172].mean(axis=1)\n",
    "needsfeatures['newyorkPRCP_lag9:lag16']=needsfeatures.iloc[:,216:224].mean(axis=1)\n",
    "needsfeatures['buffaloTemp_lag9:lag16']=needsfeatures.iloc[:,268:276].mean(axis=1)\n",
    "needsfeatures['houstonTemp_lag9:lag16']=needsfeatures.iloc[:,320:328].mean(axis=1)\n",
    "needsfeatures['miamiTemp_lag9:lag16']=needsfeatures.iloc[:,372:380].mean(axis=1)\n",
    "needsfeatures['minneapolisTemp_lag9:lag16']=needsfeatures.iloc[:,424:432].mean(axis=1)\n",
    "needsfeatures['newyorkTemp_lag9:lag16']=needsfeatures.iloc[:,476:484].mean(axis=1)"
   ]
  },
  {
   "cell_type": "code",
   "execution_count": 118,
   "metadata": {},
   "outputs": [
    {
     "name": "stderr",
     "output_type": "stream",
     "text": [
      "<ipython-input-118-de7f8dda15e4>:1: SettingWithCopyWarning: \n",
      "A value is trying to be set on a copy of a slice from a DataFrame.\n",
      "Try using .loc[row_indexer,col_indexer] = value instead\n",
      "\n",
      "See the caveats in the documentation: https://pandas.pydata.org/pandas-docs/stable/user_guide/indexing.html#returning-a-view-versus-a-copy\n",
      "  needsfeatures['buffaloPRCP_lag17:lag30']=needsfeatures.iloc[:,16:30].mean(axis=1)\n",
      "<ipython-input-118-de7f8dda15e4>:2: SettingWithCopyWarning: \n",
      "A value is trying to be set on a copy of a slice from a DataFrame.\n",
      "Try using .loc[row_indexer,col_indexer] = value instead\n",
      "\n",
      "See the caveats in the documentation: https://pandas.pydata.org/pandas-docs/stable/user_guide/indexing.html#returning-a-view-versus-a-copy\n",
      "  needsfeatures['houstonPRCP_lag17:lag30']=needsfeatures.iloc[:,68:82].mean(axis=1)\n",
      "<ipython-input-118-de7f8dda15e4>:3: SettingWithCopyWarning: \n",
      "A value is trying to be set on a copy of a slice from a DataFrame.\n",
      "Try using .loc[row_indexer,col_indexer] = value instead\n",
      "\n",
      "See the caveats in the documentation: https://pandas.pydata.org/pandas-docs/stable/user_guide/indexing.html#returning-a-view-versus-a-copy\n",
      "  needsfeatures['miamiPRCP_lag17:lag30']=needsfeatures.iloc[:,120:134].mean(axis=1)\n",
      "<ipython-input-118-de7f8dda15e4>:4: SettingWithCopyWarning: \n",
      "A value is trying to be set on a copy of a slice from a DataFrame.\n",
      "Try using .loc[row_indexer,col_indexer] = value instead\n",
      "\n",
      "See the caveats in the documentation: https://pandas.pydata.org/pandas-docs/stable/user_guide/indexing.html#returning-a-view-versus-a-copy\n",
      "  needsfeatures['minneapolisPRCP_lag17:lag30']=needsfeatures.iloc[:,172:186].mean(axis=1)\n",
      "<ipython-input-118-de7f8dda15e4>:5: SettingWithCopyWarning: \n",
      "A value is trying to be set on a copy of a slice from a DataFrame.\n",
      "Try using .loc[row_indexer,col_indexer] = value instead\n",
      "\n",
      "See the caveats in the documentation: https://pandas.pydata.org/pandas-docs/stable/user_guide/indexing.html#returning-a-view-versus-a-copy\n",
      "  needsfeatures['newyorkPRCP_lag17:lag30']=needsfeatures.iloc[:,224:238].mean(axis=1)\n",
      "<ipython-input-118-de7f8dda15e4>:6: SettingWithCopyWarning: \n",
      "A value is trying to be set on a copy of a slice from a DataFrame.\n",
      "Try using .loc[row_indexer,col_indexer] = value instead\n",
      "\n",
      "See the caveats in the documentation: https://pandas.pydata.org/pandas-docs/stable/user_guide/indexing.html#returning-a-view-versus-a-copy\n",
      "  needsfeatures['buffaloTemp_lag17:lag30']=needsfeatures.iloc[:,276:290].mean(axis=1)\n",
      "<ipython-input-118-de7f8dda15e4>:7: SettingWithCopyWarning: \n",
      "A value is trying to be set on a copy of a slice from a DataFrame.\n",
      "Try using .loc[row_indexer,col_indexer] = value instead\n",
      "\n",
      "See the caveats in the documentation: https://pandas.pydata.org/pandas-docs/stable/user_guide/indexing.html#returning-a-view-versus-a-copy\n",
      "  needsfeatures['houstonTemp_lag17:lag30']=needsfeatures.iloc[:,328:342].mean(axis=1)\n",
      "<ipython-input-118-de7f8dda15e4>:8: SettingWithCopyWarning: \n",
      "A value is trying to be set on a copy of a slice from a DataFrame.\n",
      "Try using .loc[row_indexer,col_indexer] = value instead\n",
      "\n",
      "See the caveats in the documentation: https://pandas.pydata.org/pandas-docs/stable/user_guide/indexing.html#returning-a-view-versus-a-copy\n",
      "  needsfeatures['miamiTemp_lag17:lag30']=needsfeatures.iloc[:,380:394].mean(axis=1)\n",
      "<ipython-input-118-de7f8dda15e4>:9: SettingWithCopyWarning: \n",
      "A value is trying to be set on a copy of a slice from a DataFrame.\n",
      "Try using .loc[row_indexer,col_indexer] = value instead\n",
      "\n",
      "See the caveats in the documentation: https://pandas.pydata.org/pandas-docs/stable/user_guide/indexing.html#returning-a-view-versus-a-copy\n",
      "  needsfeatures['minneapolisTemp_lag17:lag30']=needsfeatures.iloc[:,432:446].mean(axis=1)\n",
      "<ipython-input-118-de7f8dda15e4>:10: SettingWithCopyWarning: \n",
      "A value is trying to be set on a copy of a slice from a DataFrame.\n",
      "Try using .loc[row_indexer,col_indexer] = value instead\n",
      "\n",
      "See the caveats in the documentation: https://pandas.pydata.org/pandas-docs/stable/user_guide/indexing.html#returning-a-view-versus-a-copy\n",
      "  needsfeatures['newyorkTemp_lag17:lag30']=needsfeatures.iloc[:,484:498].mean(axis=1)\n"
     ]
    }
   ],
   "source": [
    "needsfeatures['buffaloPRCP_lag17:lag30']=needsfeatures.iloc[:,16:30].mean(axis=1)\n",
    "needsfeatures['houstonPRCP_lag17:lag30']=needsfeatures.iloc[:,68:82].mean(axis=1)\n",
    "needsfeatures['miamiPRCP_lag17:lag30']=needsfeatures.iloc[:,120:134].mean(axis=1)\n",
    "needsfeatures['minneapolisPRCP_lag17:lag30']=needsfeatures.iloc[:,172:186].mean(axis=1)\n",
    "needsfeatures['newyorkPRCP_lag17:lag30']=needsfeatures.iloc[:,224:238].mean(axis=1)\n",
    "needsfeatures['buffaloTemp_lag17:lag30']=needsfeatures.iloc[:,276:290].mean(axis=1)\n",
    "needsfeatures['houstonTemp_lag17:lag30']=needsfeatures.iloc[:,328:342].mean(axis=1)\n",
    "needsfeatures['miamiTemp_lag17:lag30']=needsfeatures.iloc[:,380:394].mean(axis=1)\n",
    "needsfeatures['minneapolisTemp_lag17:lag30']=needsfeatures.iloc[:,432:446].mean(axis=1)\n",
    "needsfeatures['newyorkTemp_lag17:lag30']=needsfeatures.iloc[:,484:498].mean(axis=1)"
   ]
  },
  {
   "cell_type": "code",
   "execution_count": 119,
   "metadata": {},
   "outputs": [
    {
     "name": "stderr",
     "output_type": "stream",
     "text": [
      "<ipython-input-119-3c0ca12e11ec>:1: SettingWithCopyWarning: \n",
      "A value is trying to be set on a copy of a slice from a DataFrame.\n",
      "Try using .loc[row_indexer,col_indexer] = value instead\n",
      "\n",
      "See the caveats in the documentation: https://pandas.pydata.org/pandas-docs/stable/user_guide/indexing.html#returning-a-view-versus-a-copy\n",
      "  needsfeatures['buffaloPRCP_lag31:lag52']=needsfeatures.iloc[:,30:52].mean(axis=1)\n",
      "<ipython-input-119-3c0ca12e11ec>:2: SettingWithCopyWarning: \n",
      "A value is trying to be set on a copy of a slice from a DataFrame.\n",
      "Try using .loc[row_indexer,col_indexer] = value instead\n",
      "\n",
      "See the caveats in the documentation: https://pandas.pydata.org/pandas-docs/stable/user_guide/indexing.html#returning-a-view-versus-a-copy\n",
      "  needsfeatures['houstonPRCP_lag31:lag52']=needsfeatures.iloc[:,82:104].mean(axis=1)\n",
      "<ipython-input-119-3c0ca12e11ec>:3: SettingWithCopyWarning: \n",
      "A value is trying to be set on a copy of a slice from a DataFrame.\n",
      "Try using .loc[row_indexer,col_indexer] = value instead\n",
      "\n",
      "See the caveats in the documentation: https://pandas.pydata.org/pandas-docs/stable/user_guide/indexing.html#returning-a-view-versus-a-copy\n",
      "  needsfeatures['miamiPRCP_lag31:lag52']=needsfeatures.iloc[:,134:156].mean(axis=1)\n",
      "<ipython-input-119-3c0ca12e11ec>:4: SettingWithCopyWarning: \n",
      "A value is trying to be set on a copy of a slice from a DataFrame.\n",
      "Try using .loc[row_indexer,col_indexer] = value instead\n",
      "\n",
      "See the caveats in the documentation: https://pandas.pydata.org/pandas-docs/stable/user_guide/indexing.html#returning-a-view-versus-a-copy\n",
      "  needsfeatures['minneapolisPRCP_lag31:lag52']=needsfeatures.iloc[:,186:208].mean(axis=1)\n",
      "<ipython-input-119-3c0ca12e11ec>:5: SettingWithCopyWarning: \n",
      "A value is trying to be set on a copy of a slice from a DataFrame.\n",
      "Try using .loc[row_indexer,col_indexer] = value instead\n",
      "\n",
      "See the caveats in the documentation: https://pandas.pydata.org/pandas-docs/stable/user_guide/indexing.html#returning-a-view-versus-a-copy\n",
      "  needsfeatures['newyorkPRCP_lag31:lag52']=needsfeatures.iloc[:,238:260].mean(axis=1)\n",
      "<ipython-input-119-3c0ca12e11ec>:6: SettingWithCopyWarning: \n",
      "A value is trying to be set on a copy of a slice from a DataFrame.\n",
      "Try using .loc[row_indexer,col_indexer] = value instead\n",
      "\n",
      "See the caveats in the documentation: https://pandas.pydata.org/pandas-docs/stable/user_guide/indexing.html#returning-a-view-versus-a-copy\n",
      "  needsfeatures['buffaloTemp_lag31:lag52']=needsfeatures.iloc[:,290:312].mean(axis=1)\n",
      "<ipython-input-119-3c0ca12e11ec>:7: SettingWithCopyWarning: \n",
      "A value is trying to be set on a copy of a slice from a DataFrame.\n",
      "Try using .loc[row_indexer,col_indexer] = value instead\n",
      "\n",
      "See the caveats in the documentation: https://pandas.pydata.org/pandas-docs/stable/user_guide/indexing.html#returning-a-view-versus-a-copy\n",
      "  needsfeatures['houstonTemp_lag31:lag52']=needsfeatures.iloc[:,342:364].mean(axis=1)\n",
      "<ipython-input-119-3c0ca12e11ec>:8: SettingWithCopyWarning: \n",
      "A value is trying to be set on a copy of a slice from a DataFrame.\n",
      "Try using .loc[row_indexer,col_indexer] = value instead\n",
      "\n",
      "See the caveats in the documentation: https://pandas.pydata.org/pandas-docs/stable/user_guide/indexing.html#returning-a-view-versus-a-copy\n",
      "  needsfeatures['miamiTemp_lag31:lag52']=needsfeatures.iloc[:,394:416].mean(axis=1)\n",
      "<ipython-input-119-3c0ca12e11ec>:9: SettingWithCopyWarning: \n",
      "A value is trying to be set on a copy of a slice from a DataFrame.\n",
      "Try using .loc[row_indexer,col_indexer] = value instead\n",
      "\n",
      "See the caveats in the documentation: https://pandas.pydata.org/pandas-docs/stable/user_guide/indexing.html#returning-a-view-versus-a-copy\n",
      "  needsfeatures['minneapolisTemp_lag31:lag52']=needsfeatures.iloc[:,446:468].mean(axis=1)\n",
      "<ipython-input-119-3c0ca12e11ec>:10: SettingWithCopyWarning: \n",
      "A value is trying to be set on a copy of a slice from a DataFrame.\n",
      "Try using .loc[row_indexer,col_indexer] = value instead\n",
      "\n",
      "See the caveats in the documentation: https://pandas.pydata.org/pandas-docs/stable/user_guide/indexing.html#returning-a-view-versus-a-copy\n",
      "  needsfeatures['newyorkemp_lag31:lag52']=needsfeatures.iloc[:,498:520].mean(axis=1)\n"
     ]
    }
   ],
   "source": [
    "needsfeatures['buffaloPRCP_lag31:lag52']=needsfeatures.iloc[:,30:52].mean(axis=1)\n",
    "needsfeatures['houstonPRCP_lag31:lag52']=needsfeatures.iloc[:,82:104].mean(axis=1)\n",
    "needsfeatures['miamiPRCP_lag31:lag52']=needsfeatures.iloc[:,134:156].mean(axis=1)\n",
    "needsfeatures['minneapolisPRCP_lag31:lag52']=needsfeatures.iloc[:,186:208].mean(axis=1)\n",
    "needsfeatures['newyorkPRCP_lag31:lag52']=needsfeatures.iloc[:,238:260].mean(axis=1)\n",
    "needsfeatures['buffaloTemp_lag31:lag52']=needsfeatures.iloc[:,290:312].mean(axis=1)\n",
    "needsfeatures['houstonTemp_lag31:lag52']=needsfeatures.iloc[:,342:364].mean(axis=1)\n",
    "needsfeatures['miamiTemp_lag31:lag52']=needsfeatures.iloc[:,394:416].mean(axis=1)\n",
    "needsfeatures['minneapolisTemp_lag31:lag52']=needsfeatures.iloc[:,446:468].mean(axis=1)\n",
    "needsfeatures['newyorkemp_lag31:lag52']=needsfeatures.iloc[:,498:520].mean(axis=1)"
   ]
  },
  {
   "cell_type": "code",
   "execution_count": 120,
   "metadata": {},
   "outputs": [],
   "source": [
    "one=needsfeatures.iloc[:,520:]"
   ]
  },
  {
   "cell_type": "code",
   "execution_count": 121,
   "metadata": {},
   "outputs": [],
   "source": [
    "two=needsfeatures.iloc[:,0:4]\n",
    "three=needsfeatures.iloc[:,52:56]\n",
    "four=needsfeatures.iloc[:,104:108]\n",
    "five=needsfeatures.iloc[:,156:160]\n",
    "six=needsfeatures.iloc[:,208:212]\n",
    "seven=needsfeatures.iloc[:,260:264]\n",
    "eight=needsfeatures.iloc[:,312:316]\n",
    "nine=needsfeatures.iloc[:,364:368]\n",
    "ten=needsfeatures.iloc[:,416:420]\n",
    "eleven=needsfeatures.iloc[:,468:472]"
   ]
  },
  {
   "cell_type": "code",
   "execution_count": null,
   "metadata": {},
   "outputs": [],
   "source": []
  },
  {
   "cell_type": "code",
   "execution_count": null,
   "metadata": {},
   "outputs": [],
   "source": []
  },
  {
   "cell_type": "code",
   "execution_count": 122,
   "metadata": {},
   "outputs": [],
   "source": [
    "aftereng=pd.concat([one,two,three,four,five,six,seven,eight,nine,ten,eleven,ys],axis=1)\n",
    "#combine engineered features"
   ]
  },
  {
   "cell_type": "code",
   "execution_count": 123,
   "metadata": {},
   "outputs": [],
   "source": [
    "train=aftereng[aftereng.z=='train']"
   ]
  },
  {
   "cell_type": "code",
   "execution_count": 124,
   "metadata": {},
   "outputs": [],
   "source": [
    "val=aftereng[aftereng.z=='val']"
   ]
  },
  {
   "cell_type": "code",
   "execution_count": 125,
   "metadata": {},
   "outputs": [],
   "source": [
    "train.drop(columns='z',inplace=True)\n",
    "val.drop(columns='z',inplace=True)"
   ]
  },
  {
   "cell_type": "code",
   "execution_count": 126,
   "metadata": {},
   "outputs": [],
   "source": [
    "#train.reset_index(drop=True,inplace=True)\n",
    "#val.reset_index(drop=True,inplace=True)"
   ]
  },
  {
   "cell_type": "code",
   "execution_count": null,
   "metadata": {},
   "outputs": [],
   "source": []
  },
  {
   "cell_type": "code",
   "execution_count": 127,
   "metadata": {},
   "outputs": [],
   "source": [
    "trainx=train.iloc[:,:80]\n",
    "valx=val.iloc[:,:80]"
   ]
  },
  {
   "cell_type": "code",
   "execution_count": 128,
   "metadata": {},
   "outputs": [],
   "source": [
    "trainy=train.VarTemp_newyork\n",
    "valy=val.VarTemp_newyork"
   ]
  },
  {
   "cell_type": "code",
   "execution_count": 130,
   "metadata": {},
   "outputs": [],
   "source": [
    "#train model"
   ]
  },
  {
   "cell_type": "code",
   "execution_count": 131,
   "metadata": {},
   "outputs": [],
   "source": [
    "parameters = {'max_depth': range(1, 10), 'n_estimators': [50, 100], 'subsample': [1], 'colsample_bytree': [1], 'colsample_bynode': [1], 'gamma': [0, .5,2,5, 10, 15, 20], 'learning_rate': [.01,.03,.05,.07,.1,0.15, 0.2, 0.25, 0.3], 'alpha': [0.1, 0.25, 0.5, 0.75, 1]}"
   ]
  },
  {
   "cell_type": "code",
   "execution_count": 132,
   "metadata": {},
   "outputs": [],
   "source": [
    "xgmodel = RandomizedSearchCV(xgb.XGBRegressor(eval_metric ='rmse'), parameters, n_jobs=-1, \n",
    "                             scoring ='neg_mean_squared_error',n_iter = 500, random_state = 5)"
   ]
  },
  {
   "cell_type": "code",
   "execution_count": 133,
   "metadata": {},
   "outputs": [
    {
     "data": {
      "text/plain": [
       "RandomizedSearchCV(estimator=XGBRegressor(base_score=None, booster=None,\n",
       "                                          colsample_bylevel=None,\n",
       "                                          colsample_bynode=None,\n",
       "                                          colsample_bytree=None,\n",
       "                                          eval_metric='rmse', gamma=None,\n",
       "                                          gpu_id=None, importance_type='gain',\n",
       "                                          interaction_constraints=None,\n",
       "                                          learning_rate=None,\n",
       "                                          max_delta_step=None, max_depth=None,\n",
       "                                          min_child_weight=None, missing=nan,\n",
       "                                          monotone_constraints=None,\n",
       "                                          n_es...\n",
       "                                          validate_parameters=None,\n",
       "                                          verbosity=None),\n",
       "                   n_iter=500, n_jobs=-1,\n",
       "                   param_distributions={'alpha': [0.1, 0.25, 0.5, 0.75, 1],\n",
       "                                        'colsample_bynode': [1],\n",
       "                                        'colsample_bytree': [1],\n",
       "                                        'gamma': [0, 0.5, 2, 5, 10, 15, 20],\n",
       "                                        'learning_rate': [0.01, 0.03, 0.05,\n",
       "                                                          0.07, 0.1, 0.15, 0.2,\n",
       "                                                          0.25, 0.3],\n",
       "                                        'max_depth': range(1, 10),\n",
       "                                        'n_estimators': [50, 100],\n",
       "                                        'subsample': [1]},\n",
       "                   random_state=5, scoring='neg_mean_squared_error')"
      ]
     },
     "execution_count": 133,
     "metadata": {},
     "output_type": "execute_result"
    }
   ],
   "source": [
    "xgmodel.fit(trainx, trainy)"
   ]
  },
  {
   "cell_type": "code",
   "execution_count": 134,
   "metadata": {},
   "outputs": [],
   "source": [
    "valpredict=xgmodel.predict(valx)\n",
    "trainpredict=xgmodel.predict(trainx)"
   ]
  },
  {
   "cell_type": "code",
   "execution_count": 135,
   "metadata": {},
   "outputs": [
    {
     "data": {
      "text/plain": [
       "0.7488574075183279"
      ]
     },
     "execution_count": 135,
     "metadata": {},
     "output_type": "execute_result"
    }
   ],
   "source": [
    "metrics.mean_squared_error(trainy,trainpredict,squared=False)"
   ]
  },
  {
   "cell_type": "code",
   "execution_count": 136,
   "metadata": {},
   "outputs": [
    {
     "data": {
      "text/plain": [
       "1.0144099457523164"
      ]
     },
     "execution_count": 136,
     "metadata": {},
     "output_type": "execute_result"
    }
   ],
   "source": [
    "metrics.mean_squared_error(valy,valpredict,squared=False)"
   ]
  },
  {
   "cell_type": "code",
   "execution_count": 137,
   "metadata": {},
   "outputs": [
    {
     "data": {
      "text/plain": [
       "1.1057923093826694"
      ]
     },
     "execution_count": 137,
     "metadata": {},
     "output_type": "execute_result"
    }
   ],
   "source": [
    "valy.std()"
   ]
  },
  {
   "cell_type": "code",
   "execution_count": 138,
   "metadata": {},
   "outputs": [
    {
     "data": {
      "text/plain": [
       "0.9544313994851964"
      ]
     },
     "execution_count": 138,
     "metadata": {},
     "output_type": "execute_result"
    }
   ],
   "source": [
    "trainy.std()"
   ]
  },
  {
   "cell_type": "code",
   "execution_count": null,
   "metadata": {},
   "outputs": [],
   "source": []
  },
  {
   "cell_type": "code",
   "execution_count": 139,
   "metadata": {},
   "outputs": [],
   "source": [
    "# unstandardize"
   ]
  },
  {
   "cell_type": "code",
   "execution_count": 140,
   "metadata": {},
   "outputs": [],
   "source": [
    "trainy=trainy.reset_index()\n",
    "valy=valy.reset_index()"
   ]
  },
  {
   "cell_type": "code",
   "execution_count": 141,
   "metadata": {},
   "outputs": [],
   "source": [
    "trainy['prediction']=list(trainpredict)\n",
    "valy['prediction']=list(valpredict)"
   ]
  },
  {
   "cell_type": "code",
   "execution_count": 142,
   "metadata": {},
   "outputs": [],
   "source": [
    "trainy=pd.merge(savet,trainy,on='date')\n",
    "valy=pd.merge(savev,valy,on='date')"
   ]
  },
  {
   "cell_type": "code",
   "execution_count": 143,
   "metadata": {},
   "outputs": [],
   "source": [
    "trainy['Prediction in C']=trainy.prediction*trainy.StdEveryYear_newyork+trainy.AvEveryYear_newyork\n",
    "valy['Prediction in C']=valy.prediction*valy.StdEveryYear_newyork+valy.AvEveryYear_newyork"
   ]
  },
  {
   "cell_type": "code",
   "execution_count": 144,
   "metadata": {},
   "outputs": [
    {
     "data": {
      "text/plain": [
       "1.991402038631688"
      ]
     },
     "execution_count": 144,
     "metadata": {},
     "output_type": "execute_result"
    }
   ],
   "source": [
    "metrics.mean_squared_error(trainy.AvTemp_newyork,trainy['Prediction in C'],squared=False)"
   ]
  },
  {
   "cell_type": "code",
   "execution_count": 145,
   "metadata": {},
   "outputs": [
    {
     "data": {
      "text/plain": [
       "2.359861137817013"
      ]
     },
     "execution_count": 145,
     "metadata": {},
     "output_type": "execute_result"
    }
   ],
   "source": [
    "metrics.mean_squared_error(valy.AvTemp_newyork,valy['Prediction in C'],squared=False)"
   ]
  },
  {
   "cell_type": "code",
   "execution_count": null,
   "metadata": {},
   "outputs": [],
   "source": []
  },
  {
   "cell_type": "code",
   "execution_count": null,
   "metadata": {},
   "outputs": [],
   "source": []
  },
  {
   "cell_type": "code",
   "execution_count": null,
   "metadata": {},
   "outputs": [],
   "source": []
  },
  {
   "cell_type": "code",
   "execution_count": 146,
   "metadata": {},
   "outputs": [],
   "source": [
    "# feature importances"
   ]
  },
  {
   "cell_type": "code",
   "execution_count": 147,
   "metadata": {},
   "outputs": [],
   "source": [
    "importance = pd.DataFrame()"
   ]
  },
  {
   "cell_type": "code",
   "execution_count": 148,
   "metadata": {},
   "outputs": [],
   "source": [
    "importance['Variable']=trainx.columns"
   ]
  },
  {
   "cell_type": "code",
   "execution_count": 149,
   "metadata": {},
   "outputs": [],
   "source": [
    "importance['Importance']=xgmodel.best_estimator_.feature_importances_"
   ]
  },
  {
   "cell_type": "code",
   "execution_count": 150,
   "metadata": {},
   "outputs": [],
   "source": [
    "importance.sort_values('Importance', ascending=False,inplace=True)"
   ]
  },
  {
   "cell_type": "code",
   "execution_count": 151,
   "metadata": {},
   "outputs": [],
   "source": [
    "importance.reset_index(inplace=True,drop=True)"
   ]
  },
  {
   "cell_type": "code",
   "execution_count": 152,
   "metadata": {},
   "outputs": [
    {
     "data": {
      "text/html": [
       "<div>\n",
       "<style scoped>\n",
       "    .dataframe tbody tr th:only-of-type {\n",
       "        vertical-align: middle;\n",
       "    }\n",
       "\n",
       "    .dataframe tbody tr th {\n",
       "        vertical-align: top;\n",
       "    }\n",
       "\n",
       "    .dataframe thead th {\n",
       "        text-align: right;\n",
       "    }\n",
       "</style>\n",
       "<table border=\"1\" class=\"dataframe\">\n",
       "  <thead>\n",
       "    <tr style=\"text-align: right;\">\n",
       "      <th></th>\n",
       "      <th>Variable</th>\n",
       "      <th>Importance</th>\n",
       "    </tr>\n",
       "  </thead>\n",
       "  <tbody>\n",
       "    <tr>\n",
       "      <th>0</th>\n",
       "      <td>VarTemp_minneapolis_lag01</td>\n",
       "      <td>0.06955</td>\n",
       "    </tr>\n",
       "    <tr>\n",
       "      <th>1</th>\n",
       "      <td>VarTemp_buffalo_lag01</td>\n",
       "      <td>0.05249</td>\n",
       "    </tr>\n",
       "    <tr>\n",
       "      <th>2</th>\n",
       "      <td>newyorkTemp_lag17:lag30</td>\n",
       "      <td>0.04091</td>\n",
       "    </tr>\n",
       "    <tr>\n",
       "      <th>3</th>\n",
       "      <td>minneapolisTemp_lag17:lag30</td>\n",
       "      <td>0.03770</td>\n",
       "    </tr>\n",
       "    <tr>\n",
       "      <th>4</th>\n",
       "      <td>VarTemp_newyork_lag04</td>\n",
       "      <td>0.03182</td>\n",
       "    </tr>\n",
       "    <tr>\n",
       "      <th>5</th>\n",
       "      <td>newyorkTemp_lag9:lag16</td>\n",
       "      <td>0.03158</td>\n",
       "    </tr>\n",
       "    <tr>\n",
       "      <th>6</th>\n",
       "      <td>buffaloPRCP_lag9:lag16</td>\n",
       "      <td>0.03025</td>\n",
       "    </tr>\n",
       "    <tr>\n",
       "      <th>7</th>\n",
       "      <td>VarTemp_newyork_lag02</td>\n",
       "      <td>0.02949</td>\n",
       "    </tr>\n",
       "    <tr>\n",
       "      <th>8</th>\n",
       "      <td>miamiTemp_lag31:lag52</td>\n",
       "      <td>0.02780</td>\n",
       "    </tr>\n",
       "    <tr>\n",
       "      <th>9</th>\n",
       "      <td>VarPRCP_buffalo_lag02</td>\n",
       "      <td>0.02733</td>\n",
       "    </tr>\n",
       "    <tr>\n",
       "      <th>10</th>\n",
       "      <td>houstonPRCP_lag17:lag30</td>\n",
       "      <td>0.02727</td>\n",
       "    </tr>\n",
       "    <tr>\n",
       "      <th>11</th>\n",
       "      <td>VarTemp_buffalo_lag04</td>\n",
       "      <td>0.02645</td>\n",
       "    </tr>\n",
       "    <tr>\n",
       "      <th>12</th>\n",
       "      <td>houstonPRCP_lag31:lag52</td>\n",
       "      <td>0.02608</td>\n",
       "    </tr>\n",
       "    <tr>\n",
       "      <th>13</th>\n",
       "      <td>VarPRCP_buffalo_lag01</td>\n",
       "      <td>0.02589</td>\n",
       "    </tr>\n",
       "    <tr>\n",
       "      <th>14</th>\n",
       "      <td>newyorkemp_lag31:lag52</td>\n",
       "      <td>0.02586</td>\n",
       "    </tr>\n",
       "    <tr>\n",
       "      <th>15</th>\n",
       "      <td>houstonTemp_lag31:lag52</td>\n",
       "      <td>0.02556</td>\n",
       "    </tr>\n",
       "    <tr>\n",
       "      <th>16</th>\n",
       "      <td>houstonTemp_lag5:lag8</td>\n",
       "      <td>0.02475</td>\n",
       "    </tr>\n",
       "    <tr>\n",
       "      <th>17</th>\n",
       "      <td>VarTemp_minneapolis_lag04</td>\n",
       "      <td>0.02445</td>\n",
       "    </tr>\n",
       "    <tr>\n",
       "      <th>18</th>\n",
       "      <td>VarPRCP_miami_lag02</td>\n",
       "      <td>0.02430</td>\n",
       "    </tr>\n",
       "    <tr>\n",
       "      <th>19</th>\n",
       "      <td>VarPRCP_miami_lag01</td>\n",
       "      <td>0.02401</td>\n",
       "    </tr>\n",
       "    <tr>\n",
       "      <th>20</th>\n",
       "      <td>minneapolisPRCP_lag31:lag52</td>\n",
       "      <td>0.02326</td>\n",
       "    </tr>\n",
       "    <tr>\n",
       "      <th>21</th>\n",
       "      <td>miamiPRCP_lag9:lag16</td>\n",
       "      <td>0.02228</td>\n",
       "    </tr>\n",
       "    <tr>\n",
       "      <th>22</th>\n",
       "      <td>buffaloPRCP_lag31:lag52</td>\n",
       "      <td>0.02193</td>\n",
       "    </tr>\n",
       "    <tr>\n",
       "      <th>23</th>\n",
       "      <td>newyorkPRCP_lag9:lag16</td>\n",
       "      <td>0.02140</td>\n",
       "    </tr>\n",
       "    <tr>\n",
       "      <th>24</th>\n",
       "      <td>VarTemp_newyork_lag01</td>\n",
       "      <td>0.02129</td>\n",
       "    </tr>\n",
       "    <tr>\n",
       "      <th>25</th>\n",
       "      <td>VarPRCP_minneapolis_lag03</td>\n",
       "      <td>0.02097</td>\n",
       "    </tr>\n",
       "    <tr>\n",
       "      <th>26</th>\n",
       "      <td>VarPRCP_buffalo_lag04</td>\n",
       "      <td>0.02058</td>\n",
       "    </tr>\n",
       "    <tr>\n",
       "      <th>27</th>\n",
       "      <td>VarPRCP_buffalo_lag03</td>\n",
       "      <td>0.02040</td>\n",
       "    </tr>\n",
       "    <tr>\n",
       "      <th>28</th>\n",
       "      <td>VarTemp_buffalo_lag02</td>\n",
       "      <td>0.02036</td>\n",
       "    </tr>\n",
       "    <tr>\n",
       "      <th>29</th>\n",
       "      <td>VarPRCP_newyork_lag03</td>\n",
       "      <td>0.01950</td>\n",
       "    </tr>\n",
       "  </tbody>\n",
       "</table>\n",
       "</div>"
      ],
      "text/plain": [
       "                       Variable  Importance\n",
       "0     VarTemp_minneapolis_lag01     0.06955\n",
       "1         VarTemp_buffalo_lag01     0.05249\n",
       "2       newyorkTemp_lag17:lag30     0.04091\n",
       "3   minneapolisTemp_lag17:lag30     0.03770\n",
       "4         VarTemp_newyork_lag04     0.03182\n",
       "5        newyorkTemp_lag9:lag16     0.03158\n",
       "6        buffaloPRCP_lag9:lag16     0.03025\n",
       "7         VarTemp_newyork_lag02     0.02949\n",
       "8         miamiTemp_lag31:lag52     0.02780\n",
       "9         VarPRCP_buffalo_lag02     0.02733\n",
       "10      houstonPRCP_lag17:lag30     0.02727\n",
       "11        VarTemp_buffalo_lag04     0.02645\n",
       "12      houstonPRCP_lag31:lag52     0.02608\n",
       "13        VarPRCP_buffalo_lag01     0.02589\n",
       "14       newyorkemp_lag31:lag52     0.02586\n",
       "15      houstonTemp_lag31:lag52     0.02556\n",
       "16        houstonTemp_lag5:lag8     0.02475\n",
       "17    VarTemp_minneapolis_lag04     0.02445\n",
       "18          VarPRCP_miami_lag02     0.02430\n",
       "19          VarPRCP_miami_lag01     0.02401\n",
       "20  minneapolisPRCP_lag31:lag52     0.02326\n",
       "21         miamiPRCP_lag9:lag16     0.02228\n",
       "22      buffaloPRCP_lag31:lag52     0.02193\n",
       "23       newyorkPRCP_lag9:lag16     0.02140\n",
       "24        VarTemp_newyork_lag01     0.02129\n",
       "25    VarPRCP_minneapolis_lag03     0.02097\n",
       "26        VarPRCP_buffalo_lag04     0.02058\n",
       "27        VarPRCP_buffalo_lag03     0.02040\n",
       "28        VarTemp_buffalo_lag02     0.02036\n",
       "29        VarPRCP_newyork_lag03     0.01950"
      ]
     },
     "execution_count": 152,
     "metadata": {},
     "output_type": "execute_result"
    }
   ],
   "source": [
    "importance.iloc[:30,:]"
   ]
  },
  {
   "cell_type": "code",
   "execution_count": null,
   "metadata": {},
   "outputs": [],
   "source": []
  },
  {
   "cell_type": "code",
   "execution_count": null,
   "metadata": {},
   "outputs": [],
   "source": []
  },
  {
   "cell_type": "code",
   "execution_count": null,
   "metadata": {},
   "outputs": [],
   "source": []
  },
  {
   "cell_type": "code",
   "execution_count": null,
   "metadata": {},
   "outputs": [],
   "source": []
  }
 ],
 "metadata": {
  "kernelspec": {
   "display_name": "Python 3",
   "language": "python",
   "name": "python3"
  },
  "language_info": {
   "codemirror_mode": {
    "name": "ipython",
    "version": 3
   },
   "file_extension": ".py",
   "mimetype": "text/x-python",
   "name": "python",
   "nbconvert_exporter": "python",
   "pygments_lexer": "ipython3",
   "version": "3.8.5"
  }
 },
 "nbformat": 4,
 "nbformat_minor": 4
}
